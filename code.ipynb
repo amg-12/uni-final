{
 "cells": [
  {
   "cell_type": "code",
   "execution_count": 1,
   "metadata": {},
   "outputs": [],
   "source": [
    ":load ./learning-2022/files/LectureNotes/Sections/interpreter/Parsing\n",
    "\n",
    "{-# LANGUAGE TypeSynonymInstances #-}\n",
    "{-# LANGUAGE FlexibleInstances    #-}"
   ]
  },
  {
   "cell_type": "markdown",
   "metadata": {},
   "source": [
    "### Syntax"
   ]
  },
  {
   "cell_type": "code",
   "execution_count": 2,
   "metadata": {},
   "outputs": [],
   "source": [
    "data Register = ACC\n",
    "              | NIL\n",
    "              | IN\n",
    "              | OUT\n",
    "              | Port String\n",
    "           -- non-addressable:\n",
    "              | BAK\n",
    "              | IP\n",
    "              deriving (Show, Read, Eq)\n",
    "\n",
    "data Operand = Reg Register\n",
    "             | Con Int\n",
    "             deriving (Read)\n",
    "\n",
    "type Condition = Int -> Bool\n",
    "type Label = String\n",
    "\n",
    "data Operator = MOV Register\n",
    "              | SWP\n",
    "           -- | SAV -> MOV ACC BAK\n",
    "           -- | NOP -> ADD NIL\n",
    "              | ADD\n",
    "              | SUB\n",
    "              | NEG\n",
    "              | Jmp Condition Label     -- for parsing only\n",
    "              | JRO Condition\n",
    "           -- | JMP | JEZ | JNZ | JGZ | JLZ\n",
    "              | HCF\n",
    "              deriving (Show, Read)\n",
    "\n",
    "data Operation = O Operator Operand\n",
    "               deriving (Show, Read)\n",
    "\n",
    "\n",
    "-- instances\n",
    "\n",
    "instance Show Operand where\n",
    "  show (Reg x) = show x\n",
    "  show (Con x) = show x\n",
    "\n",
    "instance Show Condition where\n",
    "  show c = case map c [(-1)..1] of\n",
    "             [True, True, True ] -> \"__\"\n",
    "             [False,True, False] -> \"EZ\"\n",
    "             [True, False,True ] -> \"NZ\"\n",
    "             [False,False,True ] -> \"GZ\"\n",
    "             [True, False,False] -> \"LZ\"\n",
    "\n",
    "instance Read Condition where\n",
    "  readsPrec _ _ = []"
   ]
  },
  {
   "cell_type": "code",
   "execution_count": 3,
   "metadata": {},
   "outputs": [],
   "source": [
    "import qualified Data.Map as Map\n",
    "\n",
    "type State = Register -> Int\n",
    "\n",
    "data Node = Node [Operation] State\n",
    "\n",
    "instance Show Node where\n",
    "  show (Node os s) = show os\n",
    "\n",
    "type Program = Map.Map String Node"
   ]
  },
  {
   "cell_type": "markdown",
   "metadata": {},
   "source": [
    "### Parsing"
   ]
  },
  {
   "cell_type": "code",
   "execution_count": 4,
   "metadata": {},
   "outputs": [],
   "source": [
    "import Text.Read\n",
    "import Data.Maybe\n",
    "import Control.Monad\n",
    "import Data.Either\n",
    "\n",
    "import Parsing"
   ]
  },
  {
   "cell_type": "code",
   "execution_count": 5,
   "metadata": {},
   "outputs": [],
   "source": [
    "goodchar :: Parser Char\n",
    "goodchar = sat (`notElem` \" :#\\n\")\n",
    "\n",
    "word :: Parser String\n",
    "word = token $ many goodchar\n",
    "\n",
    "name :: Parser String\n",
    "name = token $ do char '@'\n",
    "                  word\n",
    "\n",
    "register :: Parser Register\n",
    "register = do xs <- word\n",
    "              guard $ isJust (readMaybe xs :: Maybe Register)\n",
    "              return (read xs :: Register)\n",
    "       <|> Port <$> name\n",
    "\n",
    "operand :: Parser Operand\n",
    "operand =  Reg <$> register\n",
    "       <|> Con <$> integer\n",
    "\n",
    "operation :: Parser Operation\n",
    "operation =  do symbol \"MOV\"\n",
    "                o <- operand\n",
    "                r <- register\n",
    "                return $ O (MOV r) o\n",
    "         <|> do symbol \"SAV\"\n",
    "                return $ O (MOV BAK) (Reg ACC)\n",
    "         <|> do symbol \"NOP\" \n",
    "                return $ O ADD (Reg NIL)\n",
    "         <|> do symbol \"ADD\"\n",
    "                O ADD <$> operand\n",
    "         <|> do symbol \"SUB\"\n",
    "                O SUB <$> operand\n",
    "         <|> do symbol \"JMP\"\n",
    "                w <- word\n",
    "                return $ O (Jmp (const True) w) (Reg NIL)\n",
    "         <|> do symbol \"JEZ\"\n",
    "                w <- word\n",
    "                return $ O (Jmp (==0)        w) (Reg NIL)\n",
    "         <|> do symbol \"JNZ\"\n",
    "                w <- word\n",
    "                return $ O (Jmp (/=0)        w) (Reg NIL)\n",
    "         <|> do symbol \"JGZ\"\n",
    "                w <- word\n",
    "                return $ O (Jmp (>0)         w) (Reg NIL)\n",
    "         <|> do symbol \"JLZ\"\n",
    "                w <- word\n",
    "                return $ O (Jmp (<0)         w) (Reg NIL)\n",
    "         <|> do symbol \"JRO\"\n",
    "                O (JRO (const True)) <$> operand\n",
    "         <|> do xs <- word\n",
    "                guard $ isJust (readMaybe xs :: Maybe Operator)\n",
    "                return $ O (read xs :: Operator) (Reg NIL)\n",
    "\n",
    "                \n",
    "label :: Parser Label\n",
    "label = token $\n",
    "          do w <- word\n",
    "             char ':'\n",
    "             return w\n",
    "\n",
    "node :: Parser [Either Operation Label]\n",
    "node = many $\n",
    "        Left  <$> operation\n",
    "    <|> Right <$> label\n",
    "\n",
    "process :: [Either Operation Label] -> (Label -> Int) -> [Operation] -> [Operation]\n",
    "process [] f os = p os\n",
    "  where p [] = []\n",
    "        p xs = p (init xs) ++ [q (last xs)]\n",
    "          where q (O (Jmp c s) _) = O (JRO c) (Con (f s - length (init xs)))\n",
    "                q x         = x\n",
    "process (Left  o : es) f n = process es f (n ++ [o])\n",
    "process (Right l : es) f n = process es f' n\n",
    "  where f' l' | l' == l   = if all isRight es then 0 else length n\n",
    "              | otherwise = f l'\n",
    "\n",
    "parseNode :: String -> [Operation]\n",
    "parseNode xs = case parse node xs of\n",
    "                 [(p , [])] -> process p (const undefined) []\n",
    "                 [(_ , s)]  -> error (\"syntax: unparsed string \" ++ s)\n",
    "                 _          -> error \"syntax: failed to parse\"\n",
    "                 \n",
    "makeNode :: String -> Node\n",
    "makeNode xs = Node (parseNode xs) (const 0)"
   ]
  },
  {
   "cell_type": "code",
   "execution_count": 6,
   "metadata": {},
   "outputs": [],
   "source": [
    "namedNode :: Parser (String, [Either Operation Label])\n",
    "namedNode = do x <- name\n",
    "               y <- node\n",
    "               return (x, y) \n",
    "           \n",
    "program :: Parser [(String, [Either Operation Label])]\n",
    "program = many namedNode\n",
    "\n",
    "processProgram :: [(String, [Either Operation Label])] -> Program\n",
    "processProgram = foldr (\\ x -> Map.insert (fst x) (Node (process (snd x) (const undefined) []) (const 0))) Map.empty\n",
    "\n",
    "parseProgram :: String -> Program\n",
    "parseProgram = processProgram . fst . head . parse program"
   ]
  },
  {
   "cell_type": "markdown",
   "metadata": {},
   "source": [
    "### Interpreting"
   ]
  },
  {
   "cell_type": "code",
   "execution_count": 7,
   "metadata": {},
   "outputs": [],
   "source": [
    "clamp :: Int -> Int -> Int -> Int\n",
    "clamp l h x = max l $ min h x\n",
    "\n",
    "update :: Register -> Int -> Node -> Node\n",
    "update NIL _ n = n\n",
    "update r   x (Node os s) = Node os s'\n",
    "  where s' r' | r' == r   = clamp (-999) 999 x\n",
    "              | otherwise = s r'\n",
    "\n",
    "get :: Register -> Node -> Int\n",
    "get r (Node os s) = s r\n",
    "\n",
    "len :: Node -> Int\n",
    "len (Node os _) = length os\n",
    "\n",
    "current :: Node -> Operation\n",
    "current (Node os s) = os !! s IP\n",
    "\n",
    "inc :: Node -> Node\n",
    "inc n = update IP ((get IP n + 1) `mod` len n) n\n",
    "\n",
    "jump :: Int -> Node -> Node\n",
    "jump i n = update IP (clamp 0 (len n-1) i) n\n",
    "\n",
    "eval :: Operand -> Node -> Int\n",
    "eval (Reg r) s = get r s\n",
    "eval (Con x) _ = x\n",
    "\n",
    "exec :: Node -> Node\n",
    "exec n = e' (current n) where\n",
    "  e' :: Operation -> Node\n",
    "  e' (O a b) = e a (eval b n) where\n",
    "    e :: Operator -> Int -> Node\n",
    "    e (MOV r) o = update r o $ inc n\n",
    "    e  SWP    _ = update BAK (get ACC n) $ update ACC (get BAK n) $ inc n\n",
    "    e  ADD    o = update ACC (get ACC n + o) $ inc n\n",
    "    e  SUB    o = update ACC (get ACC n - o) $ inc n\n",
    "    e  NEG    o = update ACC (negate $ get ACC n) $ inc n\n",
    "    e (JRO c) o = if c $ get ACC n then jump (get IP n + o) n else inc n\n",
    "    e  HCF    _ = error \"halted and caught fire\"\n",
    "\n",
    "run :: Node -> Int -> Int\n",
    "run n i = get OUT $ iterate exec (update IN i n) !! 1000"
   ]
  },
  {
   "cell_type": "code",
   "execution_count": 8,
   "metadata": {},
   "outputs": [],
   "source": [
    "padRight :: a -> Int -> [a] -> [a]\n",
    "padRight  c n xs = take n $ xs ++ repeat c\n",
    "\n",
    "log :: Node -> Int -> Int -> [String]\n",
    "log n i c = map d $ take c $ iterate exec (update IN i n)\n",
    "  where d n = show (get IP n) ++ \": \" ++ padRight ' ' 11 (show (current n)) ++ \" | \" ++ show (get ACC n) ++ \" (\" ++ show (get BAK n) ++ \") \" ++ show (get IN n) ++ \" \" ++ show (get OUT n) ++ \"\\n\""
   ]
  },
  {
   "cell_type": "markdown",
   "metadata": {},
   "source": [
    "### Testing"
   ]
  },
  {
   "cell_type": "code",
   "execution_count": 9,
   "metadata": {},
   "outputs": [
    {
     "data": {
      "text/plain": [
       "  MOV IN  ACC\n",
       "  SAV        \n",
       "  MOV 1   ACC\n",
       "             \n",
       "L:SWP        \n",
       "  JEZ E      \n",
       "  JLZ F      \n",
       "  SUB 1      \n",
       "  SWP        \n",
       "  ADD ACC    \n",
       "  JMP L      \n",
       "             \n",
       "F:HCF        \n",
       "             \n",
       "E:SWP        \n",
       "  MOV ACC OUT"
      ]
     },
     "metadata": {},
     "output_type": "display_data"
    }
   ],
   "source": [
    "example1 = \n",
    "  unlines [\n",
    "    \"  MOV IN  ACC\",\n",
    "    \"  SAV        \",\n",
    "    \"  MOV 1   ACC\",\n",
    "    \"             \",\n",
    "    \"L:SWP        \",\n",
    "    \"  JEZ E      \",\n",
    "    \"  JLZ F      \",\n",
    "    \"  SUB 1      \",\n",
    "    \"  SWP        \",\n",
    "    \"  ADD ACC    \",\n",
    "    \"  JMP L      \",\n",
    "    \"             \",\n",
    "    \"F:HCF        \",\n",
    "    \"             \",\n",
    "    \"E:SWP        \",\n",
    "    \"  MOV ACC OUT\"]\n",
    "\n",
    "putStr example1"
   ]
  },
  {
   "cell_type": "code",
   "execution_count": 10,
   "metadata": {
    "scrolled": true
   },
   "outputs": [
    {
     "data": {
      "text/plain": [
       "[O (MOV ACC) IN,O (MOV BAK) ACC,O (MOV ACC) 1,O SWP NIL,O (JRO EZ) 7,O (JRO LZ) 5,O SUB 1,O SWP NIL,O ADD ACC,O (JRO __) -6,O HCF NIL,O SWP NIL,O (MOV OUT) ACC]"
      ]
     },
     "metadata": {},
     "output_type": "display_data"
    }
   ],
   "source": [
    "parsed1 = makeNode example1\n",
    "parsed1"
   ]
  },
  {
   "cell_type": "code",
   "execution_count": 11,
   "metadata": {},
   "outputs": [
    {
     "data": {
      "text/plain": [
       "[1,2,4,8,16,32,64,128,256,512,999,999]"
      ]
     },
     "metadata": {},
     "output_type": "display_data"
    }
   ],
   "source": [
    "map (run parsed1) [0..11]"
   ]
  },
  {
   "cell_type": "code",
   "execution_count": 12,
   "metadata": {},
   "outputs": [
    {
     "data": {
      "text/plain": [
       "0: O (MOV ACC) | 0 (0) 4 0\n",
       "1: O (MOV BAK) | 4 (0) 4 0\n",
       "2: O (MOV ACC) | 4 (4) 4 0\n",
       "3: O SWP NIL   | 1 (4) 4 0\n",
       "4: O (JRO EZ)  | 4 (1) 4 0\n",
       "5: O (JRO LZ)  | 4 (1) 4 0\n",
       "6: O SUB 1     | 4 (1) 4 0\n",
       "7: O SWP NIL   | 3 (1) 4 0\n",
       "8: O ADD ACC   | 1 (3) 4 0\n",
       "9: O (JRO __)  | 2 (3) 4 0\n",
       "3: O SWP NIL   | 2 (3) 4 0\n",
       "4: O (JRO EZ)  | 3 (2) 4 0\n",
       "5: O (JRO LZ)  | 3 (2) 4 0\n",
       "6: O SUB 1     | 3 (2) 4 0\n",
       "7: O SWP NIL   | 2 (2) 4 0\n",
       "8: O ADD ACC   | 2 (2) 4 0\n",
       "9: O (JRO __)  | 4 (2) 4 0\n",
       "3: O SWP NIL   | 4 (2) 4 0\n",
       "4: O (JRO EZ)  | 2 (4) 4 0\n",
       "5: O (JRO LZ)  | 2 (4) 4 0\n",
       "6: O SUB 1     | 2 (4) 4 0\n",
       "7: O SWP NIL   | 1 (4) 4 0\n",
       "8: O ADD ACC   | 4 (1) 4 0\n",
       "9: O (JRO __)  | 8 (1) 4 0\n",
       "3: O SWP NIL   | 8 (1) 4 0\n",
       "4: O (JRO EZ)  | 1 (8) 4 0\n",
       "5: O (JRO LZ)  | 1 (8) 4 0\n",
       "6: O SUB 1     | 1 (8) 4 0\n",
       "7: O SWP NIL   | 0 (8) 4 0\n",
       "8: O ADD ACC   | 8 (0) 4 0\n",
       "9: O (JRO __)  | 16 (0) 4 0\n",
       "3: O SWP NIL   | 16 (0) 4 0\n",
       "4: O (JRO EZ)  | 0 (16) 4 0\n",
       "11: O SWP NIL   | 0 (16) 4 0\n",
       "12: O (MOV OUT) | 16 (0) 4 0"
      ]
     },
     "metadata": {},
     "output_type": "display_data"
    }
   ],
   "source": [
    "putStr $ concat $ log parsed1 4 35"
   ]
  },
  {
   "cell_type": "code",
   "execution_count": 13,
   "metadata": {},
   "outputs": [
    {
     "ename": "",
     "evalue": "",
     "output_type": "error",
     "traceback": [
      "halted and caught fire\nCallStack (from HasCallStack):\n  error, called at <interactive>:32:19 in interactive:Ghci108"
     ]
    }
   ],
   "source": [
    "run parsed1 (-1)"
   ]
  },
  {
   "cell_type": "code",
   "execution_count": 14,
   "metadata": {},
   "outputs": [
    {
     "data": {
      "text/plain": [
       "  MOV 20 ACC \n",
       "  JRO IN     \n",
       "  JMP E      \n",
       "             \n",
       "2:SUB 10     \n",
       "  JMP E      \n",
       "             \n",
       "4:SUB 1      \n",
       "  JMP E      \n",
       "             \n",
       "6:ADD 1      \n",
       "  JMP E      \n",
       "             \n",
       "8:ADD 10     \n",
       "             \n",
       "E:MOV ACC OUT"
      ]
     },
     "metadata": {},
     "output_type": "display_data"
    }
   ],
   "source": [
    "example2 =\n",
    "  unlines [\n",
    "    \"  MOV 20 ACC \",\n",
    "    \"  JRO IN     \",\n",
    "    \"  JMP E      \",\n",
    "    \"             \",\n",
    "    \"2:SUB 10     \",\n",
    "    \"  JMP E      \",\n",
    "    \"             \",\n",
    "    \"4:SUB 1      \",\n",
    "    \"  JMP E      \",\n",
    "    \"             \",\n",
    "    \"6:ADD 1      \",\n",
    "    \"  JMP E      \",\n",
    "    \"             \",\n",
    "    \"8:ADD 10     \",\n",
    "    \"             \",\n",
    "    \"E:MOV ACC OUT\"]\n",
    "           \n",
    "putStr example2"
   ]
  },
  {
   "cell_type": "code",
   "execution_count": 15,
   "metadata": {},
   "outputs": [
    {
     "data": {
      "text/plain": [
       "[O (MOV ACC) 20,O (JRO __) IN,O (JRO __) 8,O SUB 10,O (JRO __) 6,O SUB 1,O (JRO __) 4,O ADD 1,O (JRO __) 2,O ADD 10,O (MOV OUT) ACC]"
      ]
     },
     "metadata": {},
     "output_type": "display_data"
    }
   ],
   "source": [
    "parsed2 = makeNode example2\n",
    "parsed2"
   ]
  },
  {
   "cell_type": "code",
   "execution_count": 16,
   "metadata": {},
   "outputs": [
    {
     "data": {
      "text/plain": [
       "[20,10,20,19,20,21,20,30,20,20,20]"
      ]
     },
     "metadata": {},
     "output_type": "display_data"
    }
   ],
   "source": [
    "map (run parsed2) [1..11]"
   ]
  },
  {
   "cell_type": "code",
   "execution_count": 17,
   "metadata": {},
   "outputs": [
    {
     "data": {
      "text/plain": [
       "fromList [(\"1\",[O (MOV ACC) 0,O SUB IN,O ADD Port \"2\",O (MOV (Port \"2\")) -2,O (JRO LZ) -2,O (MOV (Port \"2\")) Port \"2\",O (MOV (Port \"2\")) ACC]),(\"2\",[O (MOV (Port \"1\")) ACC,O SUB Port \"1\",O (JRO GZ) -2,O (MOV OUT) Port \"1\"])]"
      ]
     },
     "metadata": {},
     "output_type": "display_data"
    }
   ],
   "source": [
    "biggie = unlines\n",
    "  [\"@1            \",\n",
    "   \"   MOV 0 ACC  \",\n",
    "   \"   SUB IN     \",\n",
    "   \"&: ADD @2     \",\n",
    "   \"   MOV -2 @2  \",\n",
    "   \"   JLZ &      \",\n",
    "   \"   MOV @2 @2  \",\n",
    "   \"   MOV ACC @2 \",\n",
    "   \"              \",\n",
    "   \"@2            \",\n",
    "   \"&: MOV ACC @1 \",\n",
    "   \"   SUB @1     \",\n",
    "   \"   JGZ &      \",\n",
    "   \"   MOV @1 OUT \"]\n",
    "   \n",
    "parseProgram biggie"
   ]
  }
 ],
 "metadata": {
  "kernelspec": {
   "display_name": "Haskell",
   "language": "haskell",
   "name": "haskell"
  },
  "language_info": {
   "codemirror_mode": "ihaskell",
   "file_extension": ".hs",
   "mimetype": "text/x-haskell",
   "name": "haskell",
   "pygments_lexer": "Haskell",
   "version": "8.10.7"
  }
 },
 "nbformat": 4,
 "nbformat_minor": 4
}
