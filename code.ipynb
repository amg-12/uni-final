{
 "cells": [
  {
   "cell_type": "code",
   "execution_count": 1,
   "metadata": {},
   "outputs": [],
   "source": [
    ":load ./learning-2022/files/LectureNotes/Sections/interpreter/Parsing"
   ]
  },
  {
   "cell_type": "markdown",
   "metadata": {},
   "source": [
    "### Syntax"
   ]
  },
  {
   "cell_type": "code",
   "execution_count": 2,
   "metadata": {},
   "outputs": [],
   "source": [
    "data Register = ACC \n",
    "              | NIL\n",
    "           -- | ANY\n",
    "           -- | LAST\n",
    "              | IN  \n",
    "              | OUT\n",
    "              deriving (Show, Read)\n",
    "\n",
    "data Operand = Reg Register\n",
    "             | Con Int\n",
    "             deriving (Show, Read)\n",
    "\n",
    "type Location = Int           \n",
    "\n",
    "data Operation = NOP\n",
    "               | MOV Operand Register\n",
    "               | SWP\n",
    "               | SAV\n",
    "               | ADD Operand\n",
    "               | SUB Operand\n",
    "               | NEG\n",
    "               | JMP Location\n",
    "               | JEZ Location\n",
    "               | JNZ Location\n",
    "               | JGZ Location\n",
    "               | JLZ Location\n",
    "            -- | JRO Operand\n",
    "               deriving (Show, Read)\n",
    "\n",
    "type Node = [Operation]"
   ]
  },
  {
   "cell_type": "markdown",
   "metadata": {},
   "source": [
    "### Parsing"
   ]
  },
  {
   "cell_type": "code",
   "execution_count": 3,
   "metadata": {},
   "outputs": [],
   "source": [
    "import Text.Read\n",
    "import Data.Maybe\n",
    "import Control.Monad\n",
    "\n",
    "import Parsing"
   ]
  },
  {
   "cell_type": "code",
   "execution_count": 4,
   "metadata": {},
   "outputs": [],
   "source": [
    "word = token $ many upper\n",
    "\n",
    "register :: Parser Register\n",
    "register = do xs <- word\n",
    "              guard $ isJust (readMaybe xs :: Maybe Register)\n",
    "              return (read xs :: Register)\n",
    "\n",
    "operand :: Parser Operand\n",
    "operand =  Reg <$> register\n",
    "       <|> Con <$> integer\n",
    "\n",
    "operation :: Parser Operation\n",
    "operation =  do xs <- word\n",
    "                guard $ isJust (readMaybe xs :: Maybe Operation)\n",
    "                return (read xs :: Operation)\n",
    "         <|> do symbol \"MOV\"\n",
    "                o <- operand\n",
    "                MOV o <$> register\n",
    "         <|> do w <- word\n",
    "                guard $ elem w [\"ADD\",\"SUB\"]\n",
    "                o <- operand\n",
    "                return (read (w ++ \" (\" ++ show o ++ \")\") :: Operation) -- messy\n",
    "         <|> do w <- word\n",
    "                guard $ elem w [\"JMP\",\"JEZ\",\"JNZ\",\"JGZ\",\"JLZ\"]\n",
    "                i <- integer\n",
    "                return (read (w ++ \" (\" ++ show i ++ \")\") :: Operation)\n",
    "                \n",
    "node = many operation"
   ]
  },
  {
   "cell_type": "markdown",
   "metadata": {},
   "source": [
    "### Testing"
   ]
  },
  {
   "cell_type": "code",
   "execution_count": 5,
   "metadata": {},
   "outputs": [
    {
     "data": {
      "text/plain": [
       "MOV IN  ACC\n",
       "SWP        \n",
       "MOV 1   ACC\n",
       "           \n",
       "SWP        \n",
       "JEZ 9      \n",
       "SUB 1      \n",
       "SWP        \n",
       "ADD ACC    \n",
       "JMP 3      \n",
       "           \n",
       "SWP        \n",
       "MOV ACC OUT"
      ]
     },
     "metadata": {},
     "output_type": "display_data"
    }
   ],
   "source": [
    "exampleNode = unlines [\n",
    "              \"MOV IN  ACC\",\n",
    "              \"SWP        \",\n",
    "              \"MOV 1   ACC\",\n",
    "              \"           \",\n",
    "              \"SWP        \", -- line 3\n",
    "              \"JEZ 9      \",\n",
    "              \"SUB 1      \",\n",
    "              \"SWP        \",\n",
    "              \"ADD ACC    \",\n",
    "              \"JMP 3      \",\n",
    "              \"           \",\n",
    "              \"SWP        \", -- line 9\n",
    "              \"MOV ACC OUT\"]\n",
    "\n",
    "putStr exampleNode"
   ]
  },
  {
   "cell_type": "code",
   "execution_count": 6,
   "metadata": {},
   "outputs": [
    {
     "data": {
      "text/plain": [
       "[([MOV (Reg IN) ACC,SWP,MOV (Con 1) ACC,SWP,JEZ 9,SUB (Con 1),SWP,ADD (Reg ACC),JMP 3,SWP,MOV (Reg ACC) OUT],\"\")]"
      ]
     },
     "metadata": {},
     "output_type": "display_data"
    }
   ],
   "source": [
    "parse node exampleNode"
   ]
  }
 ],
 "metadata": {
  "kernelspec": {
   "display_name": "Haskell",
   "language": "haskell",
   "name": "haskell"
  },
  "language_info": {
   "codemirror_mode": "ihaskell",
   "file_extension": ".hs",
   "mimetype": "text/x-haskell",
   "name": "haskell",
   "pygments_lexer": "Haskell",
   "version": "8.10.7"
  }
 },
 "nbformat": 4,
 "nbformat_minor": 4
}
