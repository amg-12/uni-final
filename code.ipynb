{
 "cells": [
  {
   "cell_type": "code",
   "execution_count": 1,
   "metadata": {},
   "outputs": [],
   "source": [
    ":load ./learning-2022/files/LectureNotes/Sections/interpreter/Parsing\n",
    "\n",
    "{-# LANGUAGE TypeSynonymInstances #-}\n",
    "{-# LANGUAGE FlexibleInstances    #-} "
   ]
  },
  {
   "cell_type": "markdown",
   "metadata": {},
   "source": [
    "### Syntax"
   ]
  },
  {
   "cell_type": "code",
   "execution_count": 2,
   "metadata": {},
   "outputs": [],
   "source": [
    "data Register = ACC\n",
    "              | NIL\n",
    "           -- | ANY\n",
    "           -- | LAST\n",
    "              | IN\n",
    "              | OUT\n",
    "           -- non-addressable:\n",
    "              | BAK\n",
    "              | IP\n",
    "              deriving (Show, Read, Eq)\n",
    "\n",
    "data Operand = Reg Register\n",
    "             | Con Int\n",
    "             deriving (Read)\n",
    "\n",
    "type Location = Int\n",
    "\n",
    "type Condition = Int -> Bool\n",
    "\n",
    "data Operation = MOV Operand Register\n",
    "            -- | NOP -> ADD NIL\n",
    "               | SWP\n",
    "            -- | SAV -> MOV ACC BAK\n",
    "               | ADD Operand\n",
    "               | SUB Operand\n",
    "               | NEG\n",
    "               | JMP Condition Location\n",
    "            -- | JEZ | JNZ | JGZ | JLZ\n",
    "            -- | JRO Operand\n",
    "               deriving (Show, Read)\n",
    "\n",
    "type Node = [Operation]\n",
    "\n",
    "\n",
    "\n",
    "-- instances\n",
    "\n",
    "instance Show Operand where\n",
    "  show (Reg x) = show x\n",
    "  show (Con x) = show x\n",
    "\n",
    "instance Show Condition where\n",
    "  show _ = \"c\"\n",
    "  \n",
    "instance Read Condition where\n",
    "  readsPrec _ _ = []"
   ]
  },
  {
   "cell_type": "markdown",
   "metadata": {},
   "source": [
    "### Parsing"
   ]
  },
  {
   "cell_type": "code",
   "execution_count": 3,
   "metadata": {},
   "outputs": [],
   "source": [
    "import Text.Read\n",
    "import Data.Maybe\n",
    "import Control.Monad\n",
    "\n",
    "import Parsing"
   ]
  },
  {
   "cell_type": "code",
   "execution_count": 4,
   "metadata": {},
   "outputs": [],
   "source": [
    "word = token $ many upper\n",
    "\n",
    "register :: Parser Register\n",
    "register = do xs <- word\n",
    "              guard $ isJust (readMaybe xs :: Maybe Register)\n",
    "              return (read xs :: Register)\n",
    "\n",
    "operand :: Parser Operand\n",
    "operand =  Reg <$> register\n",
    "       <|> Con <$> integer\n",
    "\n",
    "operation :: Parser Operation\n",
    "operation =  do symbol \"NOP\" \n",
    "                return (ADD (Reg NIL))\n",
    "         <|> do symbol \"SAV\"\n",
    "                return (MOV (Reg ACC) BAK)\n",
    "         <|> do symbol \"MOV\"\n",
    "                o <- operand\n",
    "                MOV o <$> register\n",
    "         <|> do symbol \"ADD\"\n",
    "                ADD <$> operand\n",
    "         <|> do symbol \"SUB\"\n",
    "                SUB <$> operand\n",
    "         <|> do symbol \"JMP\"\n",
    "                JMP (const True) <$> int\n",
    "         <|> do symbol \"JEZ\"\n",
    "                JMP (== 0)       <$> int\n",
    "         <|> do symbol \"JNZ\"\n",
    "                JMP (/= 0)       <$> int\n",
    "         <|> do symbol \"JGZ\"\n",
    "                JMP (>  0)       <$> int\n",
    "         <|> do symbol \"JLZ\"\n",
    "                JMP (<  0)       <$> int\n",
    "         <|> do xs <- word\n",
    "                guard $ isJust (readMaybe xs :: Maybe Operation)\n",
    "                return (read xs :: Operation)\n",
    "                \n",
    "node = many operation\n",
    "\n",
    "parseNode :: String -> Node\n",
    "parseNode xs = case parse node xs of\n",
    "                   [(p , [])] -> p\n",
    "                   [(_ , s)]  -> error (\"syntax: unparsed string \" ++ s)\n",
    "                   _          -> error \"syntax: failed to parse\""
   ]
  },
  {
   "cell_type": "markdown",
   "metadata": {},
   "source": [
    "### Interpreting"
   ]
  },
  {
   "cell_type": "code",
   "execution_count": 5,
   "metadata": {},
   "outputs": [],
   "source": [
    "type State = Register -> Int\n",
    "\n",
    "init :: State\n",
    "init _ = 0\n",
    "\n",
    "update :: Register -> Int -> State -> State\n",
    "update NIL _ s = s\n",
    "update r x s = s'\n",
    " where s' r' | r' == r   = x\n",
    "             | otherwise = s r'\n",
    "\n",
    "eval :: Operand -> State -> Int\n",
    "eval (Reg r) s = s r\n",
    "eval (Con x) _ = x\n",
    "\n",
    "exec :: Operation -> State -> State\n",
    "exec (MOV o r) s = update r (eval o s) s\n",
    "exec  SWP      s = update BAK (s ACC) $ update ACC (s BAK) s\n",
    "exec (ADD o)   s = update ACC (s ACC + eval o s) s\n",
    "exec (SUB o)   s = update ACC (s ACC - eval o s) s\n",
    "exec  NEG      s = update ACC (negate (s ACC)) s\n",
    "exec (JMP c l) s = if c $ s ACC then update IP l s else s\n",
    "\n",
    "run :: Node -> Int -> Int\n",
    "run n i = run' n (update IN i init) OUT \n",
    "\n",
    "run' :: Node -> State -> State\n",
    "run' n s = if s IP >= length n then s else\n",
    "           run' n $ exec (n !! s IP) $ update IP (s IP + 1) s"
   ]
  },
  {
   "cell_type": "markdown",
   "metadata": {},
   "source": [
    "### Testing"
   ]
  },
  {
   "cell_type": "code",
   "execution_count": 6,
   "metadata": {},
   "outputs": [
    {
     "data": {
      "text/plain": [
       "MOV IN  ACC\n",
       "SAV        \n",
       "MOV 1   ACC\n",
       "           \n",
       "SWP        \n",
       "JEZ 9      \n",
       "SUB 1      \n",
       "SWP        \n",
       "ADD ACC    \n",
       "JMP 3      \n",
       "           \n",
       "SWP        \n",
       "MOV ACC OUT"
      ]
     },
     "metadata": {},
     "output_type": "display_data"
    }
   ],
   "source": [
    "exampleNode = unlines [\n",
    "              \"MOV IN  ACC\",\n",
    "              \"SAV        \",\n",
    "              \"MOV 1   ACC\",\n",
    "              \"           \",\n",
    "              \"SWP        \", -- line 3\n",
    "              \"JEZ 9      \",\n",
    "              \"SUB 1      \",\n",
    "              \"SWP        \",\n",
    "              \"ADD ACC    \",\n",
    "              \"JMP 3      \",\n",
    "              \"           \",\n",
    "              \"SWP        \", -- line 9\n",
    "              \"MOV ACC OUT\"]\n",
    "\n",
    "putStr exampleNode"
   ]
  },
  {
   "cell_type": "code",
   "execution_count": 7,
   "metadata": {},
   "outputs": [
    {
     "data": {
      "text/plain": [
       "[MOV IN ACC,MOV ACC BAK,MOV 1 ACC,SWP,JMP c 9,SUB 1,SWP,ADD ACC,JMP c 3,SWP,MOV ACC OUT]"
      ]
     },
     "metadata": {},
     "output_type": "display_data"
    }
   ],
   "source": [
    "parsedNode = parseNode exampleNode\n",
    "parsedNode"
   ]
  },
  {
   "cell_type": "code",
   "execution_count": 8,
   "metadata": {},
   "outputs": [
    {
     "data": {
      "text/plain": [
       "[1,2,4,8,16,32,64,128,256,512]"
      ]
     },
     "metadata": {},
     "output_type": "display_data"
    }
   ],
   "source": [
    "map (run parsedNode) [0..9]"
   ]
  }
 ],
 "metadata": {
  "kernelspec": {
   "display_name": "Haskell",
   "language": "haskell",
   "name": "haskell"
  },
  "language_info": {
   "codemirror_mode": "ihaskell",
   "file_extension": ".hs",
   "mimetype": "text/x-haskell",
   "name": "haskell",
   "pygments_lexer": "Haskell",
   "version": "8.10.7"
  }
 },
 "nbformat": 4,
 "nbformat_minor": 4
}
