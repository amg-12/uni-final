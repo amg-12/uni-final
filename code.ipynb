{
 "cells": [
  {
   "cell_type": "code",
   "execution_count": 1,
   "metadata": {},
   "outputs": [],
   "source": [
    ":load ./learning-2022/files/LectureNotes/Sections/interpreter/Parsing\n",
    "\n",
    "{-# LANGUAGE TypeSynonymInstances #-}\n",
    "{-# LANGUAGE FlexibleInstances    #-}"
   ]
  },
  {
   "cell_type": "markdown",
   "metadata": {},
   "source": [
    "### Syntax"
   ]
  },
  {
   "cell_type": "code",
   "execution_count": 2,
   "metadata": {},
   "outputs": [],
   "source": [
    "data Register = ACC\n",
    "              | NIL\n",
    "              | IN\n",
    "              | OUT\n",
    "              | Port String\n",
    "           -- non-addressable:\n",
    "              | BAK\n",
    "              | IP\n",
    "              deriving (Show, Read, Eq)\n",
    "\n",
    "data Operand = Reg Register\n",
    "             | Con Int\n",
    "             deriving (Read, Eq)\n",
    "\n",
    "type Condition = Int -> Bool\n",
    "type Label = String\n",
    "\n",
    "data Operator = MOV Register\n",
    "              | Mov Register -- runtime only \n",
    "              | SWP\n",
    "           -- | SAV -> MOV ACC BAK\n",
    "           -- | NOP -> ADD NIL\n",
    "              | ADD\n",
    "              | SUB\n",
    "              | NEG\n",
    "              | Jmp Condition Label -- parsing only\n",
    "              | JRO Condition\n",
    "           -- | JMP | JEZ | JNZ | JGZ | JLZ\n",
    "              | HCF\n",
    "              deriving (Show, Read, Eq)\n",
    "\n",
    "data Operation = O Operator Operand\n",
    "               deriving (Show, Read)\n",
    "\n",
    "\n",
    "-- instances\n",
    "\n",
    "instance Show Operand where\n",
    "  show (Reg x) = show x\n",
    "  show (Con x) = show x\n",
    "\n",
    "instance Eq Condition where\n",
    "  x == y = map x [(-1)..1] == map y [(-1)..1]\n",
    "\n",
    "instance Show Condition where\n",
    "  show c = case map c [(-1)..1] of\n",
    "             [True, True, True ] -> \"__\"\n",
    "             [False,True, False] -> \"EZ\"\n",
    "             [True, False,True ] -> \"NZ\"\n",
    "             [False,False,True ] -> \"GZ\"\n",
    "             [True, False,False] -> \"LZ\"\n",
    "\n",
    "instance Read Condition where\n",
    "  readsPrec _ _ = []"
   ]
  },
  {
   "cell_type": "code",
   "execution_count": 3,
   "metadata": {},
   "outputs": [],
   "source": [
    "import qualified Data.Map as Map\n",
    "\n",
    "type State = Register -> Int\n",
    "\n",
    "data Mode = Default\n",
    "          | Write Int Register\n",
    "          deriving Show\n",
    "\n",
    "data Node = Node [Operation] State Mode\n",
    "\n",
    "\n",
    "instance Show Node where\n",
    "  show (Node os s m) = show os\n",
    "\n",
    "data Program = P (Map.Map String Node) [Int] [Int]\n",
    "\n",
    "instance Show Program where\n",
    "  show (P ns is os) = show ns ++ show is ++ show os"
   ]
  },
  {
   "cell_type": "markdown",
   "metadata": {},
   "source": [
    "### Parsing"
   ]
  },
  {
   "cell_type": "code",
   "execution_count": 4,
   "metadata": {},
   "outputs": [],
   "source": [
    "import Text.Read\n",
    "import Data.Maybe\n",
    "import Control.Monad\n",
    "import Data.Either\n",
    "\n",
    "import Parsing"
   ]
  },
  {
   "cell_type": "code",
   "execution_count": 5,
   "metadata": {},
   "outputs": [],
   "source": [
    "goodchar :: Parser Char\n",
    "goodchar = sat (`notElem` \" :#\\n\")\n",
    "\n",
    "word :: Parser String\n",
    "word = token $ many goodchar\n",
    "\n",
    "name :: Parser String\n",
    "name = token $ do char '@'\n",
    "                  word\n",
    "\n",
    "register :: Parser Register\n",
    "register = do xs <- word\n",
    "              guard $ isJust (readMaybe xs :: Maybe Register)\n",
    "              return (read xs :: Register)\n",
    "       <|> Port <$> name\n",
    "\n",
    "operand :: Parser Operand\n",
    "operand =  Reg <$> register\n",
    "       <|> Con <$> integer\n",
    "\n",
    "operation :: Parser Operation\n",
    "operation =  do symbol \"MOV\"\n",
    "                o <- operand\n",
    "                r <- register\n",
    "                return $ O (MOV r) o\n",
    "         <|> do symbol \"SAV\"\n",
    "                return $ O (MOV BAK) (Reg ACC)\n",
    "         <|> do symbol \"NOP\" \n",
    "                return $ O ADD (Reg NIL)\n",
    "         <|> do symbol \"ADD\"\n",
    "                O ADD <$> operand\n",
    "         <|> do symbol \"SUB\"\n",
    "                O SUB <$> operand\n",
    "         <|> do symbol \"JMP\"\n",
    "                w <- word\n",
    "                return $ O (Jmp (const True) w) (Reg NIL)\n",
    "         <|> do symbol \"JEZ\"\n",
    "                w <- word\n",
    "                return $ O (Jmp (==0)        w) (Reg NIL)\n",
    "         <|> do symbol \"JNZ\"\n",
    "                w <- word\n",
    "                return $ O (Jmp (/=0)        w) (Reg NIL)\n",
    "         <|> do symbol \"JGZ\"\n",
    "                w <- word\n",
    "                return $ O (Jmp (>0)         w) (Reg NIL)\n",
    "         <|> do symbol \"JLZ\"\n",
    "                w <- word\n",
    "                return $ O (Jmp (<0)         w) (Reg NIL)\n",
    "         <|> do symbol \"JRO\"\n",
    "                O (JRO (const True)) <$> operand\n",
    "         <|> do xs <- word\n",
    "                guard $ isJust (readMaybe xs :: Maybe Operator)\n",
    "                return $ O (read xs :: Operator) (Reg NIL)\n",
    "\n",
    "                \n",
    "label :: Parser Label\n",
    "label = token $\n",
    "          do w <- word\n",
    "             char ':'\n",
    "             return w\n",
    "\n",
    "node :: Parser [Either Operation Label]\n",
    "node = many $\n",
    "        Left  <$> operation\n",
    "    <|> Right <$> label\n",
    "\n",
    "process :: [Either Operation Label] -> (Label -> Int) -> [Operation] -> [Operation]\n",
    "process [] f os = p os\n",
    "  where p [] = []\n",
    "        p xs = p (init xs) ++ [q (last xs)]\n",
    "          where q (O (Jmp c s) _) = O (JRO c) (Con (f s - length (init xs)))\n",
    "                q x         = x\n",
    "process (Left  o : es) f n = process es f (n ++ [o])\n",
    "process (Right l : es) f n = process es f' n\n",
    "  where f' l' | l' == l   = if all isRight es then 0 else length n\n",
    "              | otherwise = f l'\n",
    "\n",
    "parseNode :: String -> [Operation]\n",
    "parseNode xs = case parse node xs of\n",
    "                 [(p , [])] -> process p (const undefined) []\n",
    "                 [(_ , s)]  -> error (\"syntax: unparsed string \" ++ s)\n",
    "                 _          -> error \"syntax: failed to parse\"\n",
    "                 \n",
    "makeNode :: String -> Node\n",
    "makeNode xs = Node (parseNode xs) (const 0) Default"
   ]
  },
  {
   "cell_type": "code",
   "execution_count": 6,
   "metadata": {},
   "outputs": [],
   "source": [
    "namedNode :: Parser (String, [Either Operation Label])\n",
    "namedNode = do x <- name\n",
    "               y <- node\n",
    "               return (x, y) \n",
    "           \n",
    "program :: Parser [(String, [Either Operation Label])]\n",
    "program = many namedNode\n",
    "\n",
    "processProgram :: [(String, [Either Operation Label])] -> Map.Map String Node\n",
    "processProgram = foldr (\\ x -> Map.insert (fst x) (Node (process (snd x) (const undefined) []) (const 0) Default)) Map.empty\n",
    "\n",
    "parseProgram :: String -> Program\n",
    "parseProgram x = P ((processProgram . fst . head . parse program) x) [] []"
   ]
  },
  {
   "cell_type": "markdown",
   "metadata": {},
   "source": [
    "### Interpreting"
   ]
  },
  {
   "cell_type": "code",
   "execution_count": 7,
   "metadata": {},
   "outputs": [],
   "source": [
    "clamp :: Int -> Int -> Int -> Int\n",
    "clamp l h x = max l $ min h x\n",
    "\n",
    "update :: Register -> Int -> Node -> Node\n",
    "update NIL _ n = n\n",
    "update r   x (Node os s m) = Node os s' m\n",
    "  where s' r' | r' == r   = clamp (-999) 999 x\n",
    "              | otherwise = s r'\n",
    "\n",
    "get :: Register -> Node -> Int\n",
    "get r (Node os s _) = s r\n",
    "\n",
    "len :: Node -> Int\n",
    "len (Node os _ _) = length os\n",
    "\n",
    "current :: Node -> Operation\n",
    "current (Node os s Default)     = os !! s IP\n",
    "current (Node os _ (Write i r)) = O (Mov r) (Con i)\n",
    "\n",
    "mode :: Mode -> Node -> Node\n",
    "mode m (Node os s _) = Node os s m\n",
    "\n",
    "inc :: Node -> Node\n",
    "inc n = mode Default $ update IP ((get IP n + 1) `mod` len n) n\n",
    "\n",
    "jump :: Int -> Node -> Node\n",
    "jump i n = update IP (clamp 0 (len n-1) i) n\n",
    "\n",
    "eval :: Operand -> Node -> Int\n",
    "eval (Reg r) s = get r s\n",
    "eval (Con x) _ = x\n",
    "\n",
    "exec :: Node -> Node\n",
    "exec n = e' (current n) where\n",
    "  e' :: Operation -> Node\n",
    "  e' (O a b) = e a (eval b n) n\n",
    "    \n",
    "e :: Operator -> Int -> Node -> Node\n",
    "e (MOV r) o n = if r `elem` [ACC, NIL, BAK] then update r o $ inc n else mode (Write o r) n\n",
    "e (Mov _) _ n = n\n",
    "e  SWP    _ n = update BAK (get ACC n) $ update ACC (get BAK n) $ inc n\n",
    "e  ADD    o n = update ACC (get ACC n + o) $ inc n\n",
    "e  SUB    o n = update ACC (get ACC n - o) $ inc n\n",
    "e  NEG    _ n = update ACC (negate $ get ACC n) $ inc n\n",
    "e (JRO c) o n = if c $ get ACC n then jump (get IP n + o) n else inc n\n",
    "e  HCF    _ _ = error \"halted and caught fire\"\n",
    "\n",
    "run :: Node -> Int -> Int\n",
    "run n i = get OUT $ iterate exec (update IN i n) !! 1000"
   ]
  },
  {
   "cell_type": "code",
   "execution_count": 8,
   "metadata": {},
   "outputs": [],
   "source": [
    "padRight :: a -> Int -> [a] -> [a]\n",
    "padRight  c n xs = take n $ xs ++ repeat c\n",
    "\n",
    "log :: Node -> Int -> Int -> String\n",
    "log n i c = concatMap ((\"\\n\"++) . d) (take c $ iterate exec (update IN i n))\n",
    "\n",
    "d :: Node -> String\n",
    "d n = show (get IP n) ++ \": \" ++ padRight ' ' 28 (show (current n)) ++ \" | \" ++ show (get ACC n) ++ \" (\" ++ show (get BAK n) ++ \")\""
   ]
  },
  {
   "cell_type": "code",
   "execution_count": 9,
   "metadata": {},
   "outputs": [],
   "source": [
    "nodes :: Program -> [Node]\n",
    "nodes (P ns _ _) = Map.elems ns\n",
    "\n",
    "keys :: Program -> [String]\n",
    "keys (P ns _ _) = Map.keys ns\n",
    "\n",
    "ins :: Program -> [Int]\n",
    "ins (P _ is _) = is\n",
    "\n",
    "outs :: Program -> [Int]\n",
    "outs (P _ _ os) = os\n",
    "\n",
    "operand :: Node -> Operand\n",
    "operand n = f $ current n \n",
    "  where f (O _ o) = o\n",
    "\n",
    "operator :: Node -> Operator\n",
    "operator n = f $ current n\n",
    "  where f (O o _) = o\n",
    "\n",
    "checkAnyRead :: Register -> Program -> Bool\n",
    "checkAnyRead r (P ns _ _) = any ((== Reg r) . operand) (Map.elems ns)\n",
    "\n",
    "checkRead :: Register -> Register -> Program -> Bool\n",
    "checkRead (Port s) r (P ns _ _) = operand (ns Map.! s) == Reg r\n",
    "checkRead OUT _ _ = True\n",
    "\n",
    "asdf :: Operand -> Int\n",
    "asdf (Con x) = x\n",
    "\n",
    "readAny :: Register -> Program -> [Int]\n",
    "readAny r p = [asdf $ operand a | a <- nodes p, operator a == Mov OUT]\n",
    "\n",
    "eval' :: Register -> Operand -> Node -> Program -> Maybe Int\n",
    "eval' _ (Con x) _ _ = Just x\n",
    "eval' _ (Reg IN) _ (P _ (i:is) _) = Just i\n",
    "eval' _ (Reg IN) _ (P _ []     _) = Nothing\n",
    "eval' r (Reg (Port x)) _ (P ns _ _) = case current (ns Map.! x) of\n",
    "                                        O (Mov r) (Con y) -> Just y\n",
    "                                        _                 -> Nothing\n",
    "eval' _ (Reg r) n _ = Just $ get r n\n",
    "                                        \n",
    "step :: Program -> Program\n",
    "step (P ns is os) = P (Map.fromList [f n | n <- Map.toList ns]) (if not (null is) && checkAnyRead IN (P ns is os) then tail is else is) (os ++ readAny OUT (P ns is os))where\n",
    "  f (k, v) = case (operator v, eval' (Port k) (operand v) v (P ns is os)) of\n",
    "    (Mov r, _)  -> if checkRead r (Port k) (P ns is os) then (k, inc v) else (k, v)\n",
    "    (o, Just x) -> (k, e o x v)\n",
    "    _           -> (k, v)\n",
    "\n",
    "input :: [Int] -> Program -> Program\n",
    "input is (P ns _ os) = P ns is os\n",
    "\n",
    "log' :: Program -> [Int] -> Int -> String\n",
    "log' p is c = unlines [concatMap ((++\"     \") . d) (f a) ++ show (ins a) ++ show (outs a) | a <- take c $ iterate step $ input is p]\n",
    "  where f (P ns _ _) = Map.elems ns"
   ]
  },
  {
   "cell_type": "code",
   "execution_count": 10,
   "metadata": {},
   "outputs": [
    {
     "data": {
      "text/plain": [
       "0: O (MOV ACC) 0                | 0 (0)     0: O (MOV (Port \"1\")) ACC       | 0 (0)     [1,4][]\n",
       "1: O SUB IN                     | 0 (0)     0: O (Mov (Port \"1\")) 0         | 0 (0)     [1,4][]\n",
       "2: O ADD Port \"2\"               | -1 (0)     0: O (Mov (Port \"1\")) 0         | 0 (0)     [4][]\n",
       "3: O (MOV (Port \"2\")) -2        | -1 (0)     1: O SUB Port \"1\"               | 0 (0)     [4][]\n",
       "3: O (Mov (Port \"2\")) -2        | -1 (0)     1: O SUB Port \"1\"               | 0 (0)     [4][]\n",
       "4: O (JRO LZ) -2                | -1 (0)     2: O (JRO GZ) -2                | 2 (0)     [4][]\n",
       "2: O ADD Port \"2\"               | -1 (0)     0: O (MOV (Port \"1\")) ACC       | 2 (0)     [4][]\n",
       "2: O ADD Port \"2\"               | -1 (0)     0: O (Mov (Port \"1\")) 2         | 2 (0)     [4][]\n",
       "3: O (MOV (Port \"2\")) -2        | 1 (0)     1: O SUB Port \"1\"               | 2 (0)     [4][]\n",
       "3: O (Mov (Port \"2\")) -2        | 1 (0)     1: O SUB Port \"1\"               | 2 (0)     [4][]\n",
       "4: O (JRO LZ) -2                | 1 (0)     2: O (JRO GZ) -2                | 4 (0)     [4][]\n",
       "5: O (MOV (Port \"2\")) Port \"2\"  | 1 (0)     0: O (MOV (Port \"1\")) ACC       | 4 (0)     [4][]\n",
       "5: O (MOV (Port \"2\")) Port \"2\"  | 1 (0)     0: O (Mov (Port \"1\")) 4         | 4 (0)     [4][]\n",
       "5: O (Mov (Port \"2\")) 4         | 1 (0)     1: O SUB Port \"1\"               | 4 (0)     [4][]\n",
       "6: O (MOV (Port \"2\")) ACC       | 1 (0)     2: O (JRO GZ) -2                | 0 (0)     [4][]\n",
       "6: O (Mov (Port \"2\")) 1         | 1 (0)     3: O (MOV OUT) Port \"1\"         | 0 (0)     [4][]\n",
       "0: O (MOV ACC) 0                | 1 (0)     3: O (Mov OUT) 1                | 0 (0)     [4][]\n",
       "1: O SUB IN                     | 0 (0)     0: O (MOV (Port \"1\")) ACC       | 0 (0)     [4][1]\n",
       "2: O ADD Port \"2\"               | -4 (0)     0: O (Mov (Port \"1\")) 0         | 0 (0)     [][1]\n",
       "3: O (MOV (Port \"2\")) -2        | -4 (0)     1: O SUB Port \"1\"               | 0 (0)     [][1]\n",
       "3: O (Mov (Port \"2\")) -2        | -4 (0)     1: O SUB Port \"1\"               | 0 (0)     [][1]\n",
       "4: O (JRO LZ) -2                | -4 (0)     2: O (JRO GZ) -2                | 2 (0)     [][1]\n",
       "2: O ADD Port \"2\"               | -4 (0)     0: O (MOV (Port \"1\")) ACC       | 2 (0)     [][1]\n",
       "2: O ADD Port \"2\"               | -4 (0)     0: O (Mov (Port \"1\")) 2         | 2 (0)     [][1]\n",
       "3: O (MOV (Port \"2\")) -2        | -2 (0)     1: O SUB Port \"1\"               | 2 (0)     [][1]\n",
       "3: O (Mov (Port \"2\")) -2        | -2 (0)     1: O SUB Port \"1\"               | 2 (0)     [][1]\n",
       "4: O (JRO LZ) -2                | -2 (0)     2: O (JRO GZ) -2                | 4 (0)     [][1]\n",
       "2: O ADD Port \"2\"               | -2 (0)     0: O (MOV (Port \"1\")) ACC       | 4 (0)     [][1]\n",
       "2: O ADD Port \"2\"               | -2 (0)     0: O (Mov (Port \"1\")) 4         | 4 (0)     [][1]\n",
       "3: O (MOV (Port \"2\")) -2        | 2 (0)     1: O SUB Port \"1\"               | 4 (0)     [][1]\n",
       "3: O (Mov (Port \"2\")) -2        | 2 (0)     1: O SUB Port \"1\"               | 4 (0)     [][1]\n",
       "4: O (JRO LZ) -2                | 2 (0)     2: O (JRO GZ) -2                | 6 (0)     [][1]\n",
       "5: O (MOV (Port \"2\")) Port \"2\"  | 2 (0)     0: O (MOV (Port \"1\")) ACC       | 6 (0)     [][1]\n",
       "5: O (MOV (Port \"2\")) Port \"2\"  | 2 (0)     0: O (Mov (Port \"1\")) 6         | 6 (0)     [][1]\n",
       "5: O (Mov (Port \"2\")) 6         | 2 (0)     1: O SUB Port \"1\"               | 6 (0)     [][1]\n",
       "6: O (MOV (Port \"2\")) ACC       | 2 (0)     2: O (JRO GZ) -2                | 0 (0)     [][1]\n",
       "6: O (Mov (Port \"2\")) 2         | 2 (0)     3: O (MOV OUT) Port \"1\"         | 0 (0)     [][1]\n",
       "0: O (MOV ACC) 0                | 2 (0)     3: O (Mov OUT) 2                | 0 (0)     [][1]\n",
       "1: O SUB IN                     | 0 (0)     0: O (MOV (Port \"1\")) ACC       | 0 (0)     [][1,2]\n",
       "1: O SUB IN                     | 0 (0)     0: O (Mov (Port \"1\")) 0         | 0 (0)     [][1,2]\n",
       "1: O SUB IN                     | 0 (0)     0: O (Mov (Port \"1\")) 0         | 0 (0)     [][1,2]\n",
       "1: O SUB IN                     | 0 (0)     0: O (Mov (Port \"1\")) 0         | 0 (0)     [][1,2]\n",
       "1: O SUB IN                     | 0 (0)     0: O (Mov (Port \"1\")) 0         | 0 (0)     [][1,2]\n",
       "1: O SUB IN                     | 0 (0)     0: O (Mov (Port \"1\")) 0         | 0 (0)     [][1,2]\n",
       "1: O SUB IN                     | 0 (0)     0: O (Mov (Port \"1\")) 0         | 0 (0)     [][1,2]\n",
       "1: O SUB IN                     | 0 (0)     0: O (Mov (Port \"1\")) 0         | 0 (0)     [][1,2]\n",
       "1: O SUB IN                     | 0 (0)     0: O (Mov (Port \"1\")) 0         | 0 (0)     [][1,2]\n",
       "1: O SUB IN                     | 0 (0)     0: O (Mov (Port \"1\")) 0         | 0 (0)     [][1,2]"
      ]
     },
     "metadata": {},
     "output_type": "display_data"
    }
   ],
   "source": [
    "biggie = unlines\n",
    "  [\"@1            \",\n",
    "   \"   MOV 0 ACC  \",\n",
    "   \"   SUB IN     \",\n",
    "   \"&: ADD @2     \",\n",
    "   \"   MOV -2 @2  \",\n",
    "   \"   JLZ &      \",\n",
    "   \"   MOV @2 @2  \",\n",
    "   \"   MOV ACC @2 \",\n",
    "   \"              \",\n",
    "   \"@2            \",\n",
    "   \"&: MOV ACC @1 \",\n",
    "   \"   SUB @1     \",\n",
    "   \"   JGZ &      \",\n",
    "   \"   MOV @1 OUT \"]\n",
    "   \n",
    "b = parseProgram biggie\n",
    "\n",
    "putStr $ log' b [1,4] 48"
   ]
  },
  {
   "cell_type": "markdown",
   "metadata": {},
   "source": [
    "### Testing"
   ]
  },
  {
   "cell_type": "code",
   "execution_count": 11,
   "metadata": {},
   "outputs": [
    {
     "data": {
      "text/plain": [
       "  MOV IN  ACC\n",
       "  SAV        \n",
       "  MOV 1   ACC\n",
       "             \n",
       "L:SWP        \n",
       "  JEZ E      \n",
       "  JLZ F      \n",
       "  SUB 1      \n",
       "  SWP        \n",
       "  ADD ACC    \n",
       "  JMP L      \n",
       "             \n",
       "F:HCF        \n",
       "             \n",
       "E:SWP        \n",
       "  MOV ACC OUT"
      ]
     },
     "metadata": {},
     "output_type": "display_data"
    }
   ],
   "source": [
    "example1 = \n",
    "  unlines [\n",
    "    \"  MOV IN  ACC\",\n",
    "    \"  SAV        \",\n",
    "    \"  MOV 1   ACC\",\n",
    "    \"             \",\n",
    "    \"L:SWP        \",\n",
    "    \"  JEZ E      \",\n",
    "    \"  JLZ F      \",\n",
    "    \"  SUB 1      \",\n",
    "    \"  SWP        \",\n",
    "    \"  ADD ACC    \",\n",
    "    \"  JMP L      \",\n",
    "    \"             \",\n",
    "    \"F:HCF        \",\n",
    "    \"             \",\n",
    "    \"E:SWP        \",\n",
    "    \"  MOV ACC OUT\"]\n",
    "\n",
    "putStr example1"
   ]
  },
  {
   "cell_type": "code",
   "execution_count": 12,
   "metadata": {
    "scrolled": true
   },
   "outputs": [
    {
     "data": {
      "text/plain": [
       "[O (MOV ACC) IN,O (MOV BAK) ACC,O (MOV ACC) 1,O SWP NIL,O (JRO EZ) 7,O (JRO LZ) 5,O SUB 1,O SWP NIL,O ADD ACC,O (JRO __) -6,O HCF NIL,O SWP NIL,O (MOV OUT) ACC]"
      ]
     },
     "metadata": {},
     "output_type": "display_data"
    }
   ],
   "source": [
    "parsed1 = makeNode example1\n",
    "parsed1"
   ]
  },
  {
   "cell_type": "code",
   "execution_count": 13,
   "metadata": {},
   "outputs": [
    {
     "data": {
      "text/plain": [
       "[0,0,0,0,0,0,0,0,0,0,0,0]"
      ]
     },
     "metadata": {},
     "output_type": "display_data"
    }
   ],
   "source": [
    "map (run parsed1) [0..11]"
   ]
  },
  {
   "cell_type": "code",
   "execution_count": 14,
   "metadata": {},
   "outputs": [
    {
     "data": {
      "text/plain": [
       "\n",
       "0: O (MOV ACC) IN               | 0 (0)\n",
       "1: O (MOV BAK) ACC              | 4 (0)\n",
       "2: O (MOV ACC) 1                | 4 (4)\n",
       "3: O SWP NIL                    | 1 (4)\n",
       "4: O (JRO EZ) 7                 | 4 (1)\n",
       "5: O (JRO LZ) 5                 | 4 (1)\n",
       "6: O SUB 1                      | 4 (1)\n",
       "7: O SWP NIL                    | 3 (1)\n",
       "8: O ADD ACC                    | 1 (3)\n",
       "9: O (JRO __) -6                | 2 (3)\n",
       "3: O SWP NIL                    | 2 (3)\n",
       "4: O (JRO EZ) 7                 | 3 (2)\n",
       "5: O (JRO LZ) 5                 | 3 (2)\n",
       "6: O SUB 1                      | 3 (2)\n",
       "7: O SWP NIL                    | 2 (2)\n",
       "8: O ADD ACC                    | 2 (2)\n",
       "9: O (JRO __) -6                | 4 (2)\n",
       "3: O SWP NIL                    | 4 (2)\n",
       "4: O (JRO EZ) 7                 | 2 (4)\n",
       "5: O (JRO LZ) 5                 | 2 (4)\n",
       "6: O SUB 1                      | 2 (4)\n",
       "7: O SWP NIL                    | 1 (4)\n",
       "8: O ADD ACC                    | 4 (1)\n",
       "9: O (JRO __) -6                | 8 (1)\n",
       "3: O SWP NIL                    | 8 (1)\n",
       "4: O (JRO EZ) 7                 | 1 (8)\n",
       "5: O (JRO LZ) 5                 | 1 (8)\n",
       "6: O SUB 1                      | 1 (8)\n",
       "7: O SWP NIL                    | 0 (8)\n",
       "8: O ADD ACC                    | 8 (0)\n",
       "9: O (JRO __) -6                | 16 (0)\n",
       "3: O SWP NIL                    | 16 (0)\n",
       "4: O (JRO EZ) 7                 | 0 (16)\n",
       "11: O SWP NIL                    | 0 (16)\n",
       "12: O (MOV OUT) ACC              | 16 (0)\n",
       "12: O (Mov OUT) 16               | 16 (0)\n",
       "12: O (Mov OUT) 16               | 16 (0)\n",
       "12: O (Mov OUT) 16               | 16 (0)\n",
       "12: O (Mov OUT) 16               | 16 (0)"
      ]
     },
     "metadata": {},
     "output_type": "display_data"
    }
   ],
   "source": [
    "putStr $ log parsed1 4 39"
   ]
  },
  {
   "cell_type": "code",
   "execution_count": 15,
   "metadata": {},
   "outputs": [
    {
     "ename": "",
     "evalue": "",
     "output_type": "error",
     "traceback": [
      "halted and caught fire\nCallStack (from HasCallStack):\n  error, called at <interactive>:36:17 in interactive:Ghci108"
     ]
    }
   ],
   "source": [
    "run parsed1 (-1)"
   ]
  },
  {
   "cell_type": "code",
   "execution_count": 16,
   "metadata": {},
   "outputs": [
    {
     "data": {
      "text/plain": [
       "  MOV 20 ACC \n",
       "  JRO IN     \n",
       "  JMP E      \n",
       "             \n",
       "2:SUB 10     \n",
       "  JMP E      \n",
       "             \n",
       "4:SUB 1      \n",
       "  JMP E      \n",
       "             \n",
       "6:ADD 1      \n",
       "  JMP E      \n",
       "             \n",
       "8:ADD 10     \n",
       "             \n",
       "E:MOV ACC OUT"
      ]
     },
     "metadata": {},
     "output_type": "display_data"
    }
   ],
   "source": [
    "example2 =\n",
    "  unlines [\n",
    "    \"  MOV 20 ACC \",\n",
    "    \"  JRO IN     \",\n",
    "    \"  JMP E      \",\n",
    "    \"             \",\n",
    "    \"2:SUB 10     \",\n",
    "    \"  JMP E      \",\n",
    "    \"             \",\n",
    "    \"4:SUB 1      \",\n",
    "    \"  JMP E      \",\n",
    "    \"             \",\n",
    "    \"6:ADD 1      \",\n",
    "    \"  JMP E      \",\n",
    "    \"             \",\n",
    "    \"8:ADD 10     \",\n",
    "    \"             \",\n",
    "    \"E:MOV ACC OUT\"]\n",
    "           \n",
    "putStr example2"
   ]
  },
  {
   "cell_type": "code",
   "execution_count": 17,
   "metadata": {},
   "outputs": [
    {
     "data": {
      "text/plain": [
       "[O (MOV ACC) 20,O (JRO __) IN,O (JRO __) 8,O SUB 10,O (JRO __) 6,O SUB 1,O (JRO __) 4,O ADD 1,O (JRO __) 2,O ADD 10,O (MOV OUT) ACC]"
      ]
     },
     "metadata": {},
     "output_type": "display_data"
    }
   ],
   "source": [
    "parsed2 = makeNode example2\n",
    "parsed2"
   ]
  },
  {
   "cell_type": "code",
   "execution_count": 18,
   "metadata": {},
   "outputs": [
    {
     "data": {
      "text/plain": [
       "[0,0,0,0,0,0,0,0,0,0,0]"
      ]
     },
     "metadata": {},
     "output_type": "display_data"
    }
   ],
   "source": [
    "map (run parsed2) [1..11]"
   ]
  }
 ],
 "metadata": {
  "kernelspec": {
   "display_name": "Haskell",
   "language": "haskell",
   "name": "haskell"
  },
  "language_info": {
   "codemirror_mode": "ihaskell",
   "file_extension": ".hs",
   "mimetype": "text/x-haskell",
   "name": "haskell",
   "pygments_lexer": "Haskell",
   "version": "8.10.7"
  }
 },
 "nbformat": 4,
 "nbformat_minor": 4
}
