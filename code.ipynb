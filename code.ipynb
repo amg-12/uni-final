{
 "cells": [
  {
   "cell_type": "code",
   "execution_count": 1,
   "metadata": {},
   "outputs": [],
   "source": [
    ":load ./learning-2022/files/LectureNotes/Sections/interpreter/Parsing\n",
    "\n",
    "{-# LANGUAGE TypeSynonymInstances #-}\n",
    "{-# LANGUAGE FlexibleInstances    #-}"
   ]
  },
  {
   "cell_type": "markdown",
   "metadata": {},
   "source": [
    "### Syntax"
   ]
  },
  {
   "cell_type": "code",
   "execution_count": 2,
   "metadata": {},
   "outputs": [],
   "source": [
    "data Register = ACC\n",
    "              | NIL\n",
    "           -- | ANY\n",
    "           -- | LAST\n",
    "              | IN\n",
    "              | OUT\n",
    "           -- non-addressable:\n",
    "              | BAK\n",
    "              | IP\n",
    "              deriving (Show, Read, Eq)\n",
    "\n",
    "data Operand = Reg Register\n",
    "             | Con Int\n",
    "             deriving (Read)\n",
    "\n",
    "type Condition = Int -> Bool\n",
    "type Label = String\n",
    "\n",
    "data Operation = MOV Operand Register\n",
    "               | SWP\n",
    "            -- | SAV -> MOV ACC BAK\n",
    "            -- | NOP -> ADD NIL\n",
    "               | ADD Operand\n",
    "               | SUB Operand\n",
    "               | NEG\n",
    "               | Jmp Condition Label     -- for parsing only\n",
    "               | JRO Condition Operand\n",
    "            -- | JMP | JEZ | JNZ | JGZ | JLZ\n",
    "               | HCF\n",
    "               deriving (Show, Read)\n",
    "\n",
    "\n",
    "\n",
    "-- instances\n",
    "\n",
    "instance Show Operand where\n",
    "  show (Reg x) = show x\n",
    "  show (Con x) = show x\n",
    "\n",
    "instance Show Condition where\n",
    "  show c = case map c [(-1)..1] of\n",
    "             [True, True, True ] -> \"__\"\n",
    "             [False,True, False] -> \"EZ\"\n",
    "             [True, False,True ] -> \"NZ\"\n",
    "             [False,False,True ] -> \"GZ\"\n",
    "             [True, False,False] -> \"LZ\"\n",
    "\n",
    "instance Read Condition where\n",
    "  readsPrec _ _ = []"
   ]
  },
  {
   "cell_type": "markdown",
   "metadata": {},
   "source": [
    "### Parsing"
   ]
  },
  {
   "cell_type": "code",
   "execution_count": 3,
   "metadata": {},
   "outputs": [],
   "source": [
    "import Text.Read\n",
    "import Data.Maybe\n",
    "import Control.Monad\n",
    "\n",
    "import Parsing"
   ]
  },
  {
   "cell_type": "code",
   "execution_count": 4,
   "metadata": {},
   "outputs": [],
   "source": [
    "goodchar :: Parser Char\n",
    "goodchar = sat (`notElem` \" :#\\n\")\n",
    "\n",
    "word :: Parser String\n",
    "word = token $ many goodchar\n",
    "\n",
    "register :: Parser Register\n",
    "register = do xs <- word\n",
    "              guard $ isJust (readMaybe xs :: Maybe Register)\n",
    "              return (read xs :: Register)\n",
    "\n",
    "operand :: Parser Operand\n",
    "operand =  Reg <$> register\n",
    "       <|> Con <$> integer\n",
    "\n",
    "operation :: Parser Operation\n",
    "operation =  do symbol \"MOV\"\n",
    "                o <- operand\n",
    "                MOV o <$> register\n",
    "         <|> do symbol \"SAV\"\n",
    "                return (MOV (Reg ACC) BAK)\n",
    "         <|> do symbol \"NOP\" \n",
    "                return (ADD (Reg NIL))\n",
    "         <|> do symbol \"ADD\"\n",
    "                ADD <$> operand\n",
    "         <|> do symbol \"SUB\"\n",
    "                SUB <$> operand\n",
    "         <|> do symbol \"JMP\"\n",
    "                Jmp (const True) <$> word\n",
    "         <|> do symbol \"JEZ\"\n",
    "                Jmp (== 0)       <$> word\n",
    "         <|> do symbol \"JNZ\"\n",
    "                Jmp (/= 0)       <$> word\n",
    "         <|> do symbol \"JGZ\"\n",
    "                Jmp (>  0)       <$> word\n",
    "         <|> do symbol \"JLZ\"\n",
    "                Jmp (<  0)       <$> word\n",
    "         <|> do symbol \"JRO\"\n",
    "                JRO (const True) <$> operand\n",
    "         <|> do xs <- word\n",
    "                guard $ isJust (readMaybe xs :: Maybe Operation)\n",
    "                return (read xs :: Operation)\n",
    "                \n",
    "label :: Parser Label\n",
    "label = token $\n",
    "          do w <- many goodchar\n",
    "             c <- sat (==':')\n",
    "             return w\n",
    "\n",
    "node :: Parser [Either Operation Label]\n",
    "node = many $\n",
    "        Left  <$> operation\n",
    "    <|> Right <$> label\n",
    "\n",
    "process :: [Either Operation Label] -> (Label -> Int) -> [Operation] -> [Operation]\n",
    "process [] f os = p os\n",
    "  where p [] = []\n",
    "        p xs = p (init xs) ++ [q (last xs)]\n",
    "          where q (Jmp c s) = JRO c (Con (f s - length (init xs)))\n",
    "                q x         = x\n",
    "process (Left  o : es) f n = process es f (n ++ [o])\n",
    "process (Right l : es) f n = process es f' n\n",
    "  where f' l' | l' == l   = if null es then 0 else length n\n",
    "              | otherwise = f l'\n",
    "\n",
    "parseNode :: String -> [Operation]\n",
    "parseNode xs = case parse node xs of\n",
    "                 [(p , [])] -> process p (const undefined) []\n",
    "                 [(_ , s)]  -> error (\"syntax: unparsed string \" ++ s)\n",
    "                 _          -> error \"syntax: failed to parse\""
   ]
  },
  {
   "cell_type": "markdown",
   "metadata": {},
   "source": [
    "### Interpreting"
   ]
  },
  {
   "cell_type": "code",
   "execution_count": 5,
   "metadata": {},
   "outputs": [],
   "source": [
    "type State = Register -> Int\n",
    "\n",
    "data Node = Node [Operation] State\n",
    "\n",
    "instance Show Node where\n",
    "  --show n = show (current n) ++ \" | \" ++ show (get ACC n) ++ \" (\" ++ show (get BAK n) ++ \") \" ++ show (get IN n) ++ \" \" ++ show (get OUT n) ++ \"\\n\"\n",
    "  show (Node os _) = show os\n",
    "\n",
    "makeNode :: String -> Node\n",
    "makeNode xs = Node (parseNode xs) (const 0)\n",
    "\n",
    "clamp :: Int -> Int -> Int -> Int\n",
    "clamp l h x = max l $ min h x\n",
    "\n",
    "update :: Register -> Int -> Node -> Node\n",
    "update NIL _ n = n\n",
    "update r   x (Node os s) = Node os s'\n",
    "  where s' r' | r' == r   = clamp (-999) 999 x\n",
    "              | otherwise = s r'\n",
    "\n",
    "get :: Register -> Node -> Int\n",
    "get r (Node os s) = s r\n",
    "\n",
    "len :: Node -> Int\n",
    "len (Node os _) = length os\n",
    "\n",
    "current :: Node -> Operation\n",
    "current (Node os s) = os !! s IP\n",
    "\n",
    "inc :: Node -> Node\n",
    "inc n = update IP ((get IP n + 1) `mod` len n) n\n",
    "\n",
    "jump :: Int -> Node -> Node\n",
    "jump i n = update IP (clamp 0 (len n-1) i) n\n",
    "\n",
    "eval :: Operand -> Node -> Int\n",
    "eval (Reg r) s = get r s\n",
    "eval (Con x) _ = x\n",
    "\n",
    "exec :: Node -> Node\n",
    "exec n = e (current n) n\n",
    "  where\n",
    "    e :: Operation -> Node -> Node\n",
    "    e (MOV o r) n = update r (eval o n) $ inc n\n",
    "    e  SWP      n = update BAK (get ACC n) $ update ACC (get BAK n) $ inc n\n",
    "    e (ADD o)   n = update ACC (get ACC n + eval o n) $ inc n\n",
    "    e (SUB o)   n = update ACC (get ACC n - eval o n) $ inc n\n",
    "    e  NEG      n = update ACC (negate $ get ACC n) $ inc n\n",
    "    e (JRO c o) n = if c $ get ACC n then jump (get IP n + eval o n) n else inc n\n",
    "    e  HCF      n = error \"halted and caught fire\"\n",
    "\n",
    "run :: Node -> Int -> Int\n",
    "run n i = get OUT $ iterate exec (update IN i n) !! 1000"
   ]
  },
  {
   "cell_type": "markdown",
   "metadata": {},
   "source": [
    "### Testing"
   ]
  },
  {
   "cell_type": "code",
   "execution_count": 6,
   "metadata": {},
   "outputs": [
    {
     "data": {
      "text/plain": [
       "  MOV IN  ACC\n",
       "  SAV        \n",
       "  MOV 1   ACC\n",
       "             \n",
       "L:SWP        \n",
       "  JEZ E      \n",
       "  JLZ F      \n",
       "  SUB 1      \n",
       "  SWP        \n",
       "  ADD ACC    \n",
       "  JMP L      \n",
       "             \n",
       "F:HCF        \n",
       "             \n",
       "E:SWP        \n",
       "  MOV ACC OUT"
      ]
     },
     "metadata": {},
     "output_type": "display_data"
    }
   ],
   "source": [
    "example1 = \n",
    "  unlines [\n",
    "    \"  MOV IN  ACC\",\n",
    "    \"  SAV        \",\n",
    "    \"  MOV 1   ACC\",\n",
    "    \"             \",\n",
    "    \"L:SWP        \",\n",
    "    \"  JEZ E      \",\n",
    "    \"  JLZ F      \",\n",
    "    \"  SUB 1      \",\n",
    "    \"  SWP        \",\n",
    "    \"  ADD ACC    \",\n",
    "    \"  JMP L      \",\n",
    "    \"             \",\n",
    "    \"F:HCF        \",\n",
    "    \"             \",\n",
    "    \"E:SWP        \",\n",
    "    \"  MOV ACC OUT\"]\n",
    "\n",
    "putStr example1"
   ]
  },
  {
   "cell_type": "code",
   "execution_count": 7,
   "metadata": {
    "scrolled": true
   },
   "outputs": [
    {
     "data": {
      "text/plain": [
       "[MOV IN ACC,MOV ACC BAK,MOV 1 ACC,SWP,JRO EZ 7,JRO LZ 5,SUB 1,SWP,ADD ACC,JRO __ -6,HCF,SWP,MOV ACC OUT]"
      ]
     },
     "metadata": {},
     "output_type": "display_data"
    }
   ],
   "source": [
    "parsed1 = makeNode example1\n",
    "parsed1"
   ]
  },
  {
   "cell_type": "code",
   "execution_count": 8,
   "metadata": {},
   "outputs": [
    {
     "data": {
      "text/plain": [
       "[1,2,4,8,16,32,64,128,256,512,999,999]"
      ]
     },
     "metadata": {},
     "output_type": "display_data"
    }
   ],
   "source": [
    "map (run parsed1) [0..11]"
   ]
  },
  {
   "cell_type": "code",
   "execution_count": 9,
   "metadata": {},
   "outputs": [
    {
     "ename": "",
     "evalue": "",
     "output_type": "error",
     "traceback": [
      "halted and caught fire\nCallStack (from HasCallStack):\n  error, called at <interactive>:38:21 in interactive:Ghci72"
     ]
    }
   ],
   "source": [
    "run parsed1 (-1)"
   ]
  },
  {
   "cell_type": "code",
   "execution_count": 10,
   "metadata": {},
   "outputs": [
    {
     "data": {
      "text/plain": [
       "  MOV 20 ACC \n",
       "  JRO IN     \n",
       "  JMP E      \n",
       "             \n",
       "2:SUB 10     \n",
       "  JMP E      \n",
       "             \n",
       "4:SUB 1      \n",
       "  JMP E      \n",
       "             \n",
       "6:ADD 1      \n",
       "  JMP E      \n",
       "             \n",
       "8:ADD 10     \n",
       "             \n",
       "E:MOV ACC OUT"
      ]
     },
     "metadata": {},
     "output_type": "display_data"
    }
   ],
   "source": [
    "example2 =\n",
    "  unlines [\n",
    "    \"  MOV 20 ACC \",\n",
    "    \"  JRO IN     \",\n",
    "    \"  JMP E      \",\n",
    "    \"             \",\n",
    "    \"2:SUB 10     \",\n",
    "    \"  JMP E      \",\n",
    "    \"             \",\n",
    "    \"4:SUB 1      \",\n",
    "    \"  JMP E      \",\n",
    "    \"             \",\n",
    "    \"6:ADD 1      \",\n",
    "    \"  JMP E      \",\n",
    "    \"             \",\n",
    "    \"8:ADD 10     \",\n",
    "    \"             \",\n",
    "    \"E:MOV ACC OUT\"]\n",
    "           \n",
    "putStr example2"
   ]
  },
  {
   "cell_type": "code",
   "execution_count": 11,
   "metadata": {},
   "outputs": [
    {
     "data": {
      "text/plain": [
       "[MOV 20 ACC,JRO __ IN,JRO __ 8,SUB 10,JRO __ 6,SUB 1,JRO __ 4,ADD 1,JRO __ 2,ADD 10,MOV ACC OUT]"
      ]
     },
     "metadata": {},
     "output_type": "display_data"
    }
   ],
   "source": [
    "parsed2 = makeNode example2\n",
    "parsed2"
   ]
  },
  {
   "cell_type": "code",
   "execution_count": 12,
   "metadata": {},
   "outputs": [
    {
     "data": {
      "text/plain": [
       "[20,10,20,19,20,21,20,30,20,20,20]"
      ]
     },
     "metadata": {},
     "output_type": "display_data"
    }
   ],
   "source": [
    "map (run parsed2) [1..11]"
   ]
  }
 ],
 "metadata": {
  "kernelspec": {
   "display_name": "Haskell",
   "language": "haskell",
   "name": "haskell"
  },
  "language_info": {
   "codemirror_mode": "ihaskell",
   "file_extension": ".hs",
   "mimetype": "text/x-haskell",
   "name": "haskell",
   "pygments_lexer": "Haskell",
   "version": "8.10.7"
  }
 },
 "nbformat": 4,
 "nbformat_minor": 4
}
